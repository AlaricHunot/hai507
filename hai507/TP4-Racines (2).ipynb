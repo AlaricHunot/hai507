{
 "cells": [
  {
   "cell_type": "markdown",
   "metadata": {
    "deletable": false,
    "editable": false,
    "run_control": {
     "frozen": true
    }
   },
   "source": [
    "# TP Calcul de racines"
   ]
  },
  {
   "cell_type": "markdown",
   "metadata": {
    "deletable": false,
    "editable": false,
    "run_control": {
     "frozen": true
    }
   },
   "source": [
    "Durant ce TP, nous nous intéressons aux méthodes numériques pour déterminer les zéros de fonctions."
   ]
  },
  {
   "cell_type": "markdown",
   "metadata": {
    "deletable": false,
    "editable": false,
    "run_control": {
     "frozen": true
    }
   },
   "source": [
    "## Recherche de minimum"
   ]
  },
  {
   "cell_type": "markdown",
   "metadata": {},
   "source": [
    "L'une des applications de l'obtention des zéros est la détermination d'extremums locaux. Dans cette partie, nous nous intéresserons seulement aux minimums. Un minimum local d'une fonction $f$ correspond à un $x_{min}$ tel que il existe un intervalle $I=]a,b[$ tel que $\\forall x \\in I, f(x)\\geq f(x_{min})$."
   ]
  },
  {
   "cell_type": "markdown",
   "metadata": {
    "deletable": false,
    "editable": false,
    "run_control": {
     "frozen": true
    }
   },
   "source": [
    "### Question\n",
    "1. Afficher le graphique de la fonction $f(x)=2x^6-12x^5+15x^4+20x^3-36x^2+4$ et trouver un intervalle qui permette de voir tous ses minimums locaux. *Vous pourrez utiliser la fonction d'interaction vue au TP1* `@interact`.\n",
    "1. Afficher à la fois le graphe de $f$ et de sa dérivée. Vérifiez que la derivée de $f$ s'annule toujours dans un minimum local de $f$.\n",
    "1. Trouver au moins un point $x_0$ qui n'est pas un minimum local et qui pourtant verifie $f'(x_0)=0$. Que peut t-on dire sur ce point ?"
   ]
  },
  {
   "cell_type": "code",
   "execution_count": 5,
   "metadata": {},
   "outputs": [
    {
     "data": {
      "application/vnd.jupyter.widget-view+json": {
       "model_id": "4391d823c5e742afa0eabed5a78e68c9",
       "version_major": 2,
       "version_minor": 0
      },
      "text/plain": [
       "Interactive function <function _ at 0x6ffeebe977a0> with 2 widgets\n",
       "  mi: TransformIntSlider(value=0, descripti…"
      ]
     },
     "metadata": {},
     "output_type": "display_data"
    }
   ],
   "source": [
    "var('x')\n",
    "f(x)=2*x^6-12*x^5+15*x^4+20*x^3-36*x^2+4\n",
    "fd(x)=diff(f(x),x)\n",
    "@interact \n",
    "def _(mi=slider(-4,0),ma=slider(1,4)):\n",
    "    return plot(f,(mi,ma))+plot(fd,(mi,ma),color='red')\n"
   ]
  },
  {
   "cell_type": "code",
   "execution_count": 6,
   "metadata": {},
   "outputs": [
    {
     "data": {
      "text/plain": [
       "(0, 0, 0, [x == 3, x == -1, x == 1, x == 2, x == 0])"
      ]
     },
     "execution_count": 6,
     "metadata": {},
     "output_type": "execute_result"
    }
   ],
   "source": [
    "fd(-1)\n",
    "fd(-1),fd(1),fd(3),solve(fd,x)\n"
   ]
  },
  {
   "cell_type": "code",
   "execution_count": 7,
   "metadata": {},
   "outputs": [
    {
     "data": {
      "text/plain": [
       "0"
      ]
     },
     "execution_count": 7,
     "metadata": {},
     "output_type": "execute_result"
    }
   ],
   "source": [
    "fd(2)"
   ]
  },
  {
   "cell_type": "markdown",
   "metadata": {
    "deletable": false,
    "editable": false,
    "run_control": {
     "frozen": true
    }
   },
   "source": [
    "### Question"
   ]
  },
  {
   "cell_type": "markdown",
   "metadata": {
    "deletable": false,
    "editable": false,
    "run_control": {
     "frozen": true
    }
   },
   "source": [
    "Tout extremum local d'une fonction dérivable $f$ correspond à une racine de sa dérivée. Nous allons utiliser cette propriété pour déterminer  les minimums de f."
   ]
  },
  {
   "cell_type": "markdown",
   "metadata": {
    "deletable": false,
    "editable": false,
    "run_control": {
     "frozen": true
    }
   },
   "source": [
    "1. En utilisant la méthode `find_root` sur des intervalles adaptés (que vous trouverez à la main) calculer chacune des racines de $f'$ qui correspond à un minimum de $f$.\n",
    "1. Evaluer $f$ et $f'$ en ces points. Vous devrez constater que `find_root` est une méthode de calcul numérique approchée.\n",
    "1. Trouver d'autres intervalles de recherches de telles sorte que les évaluations de $f$ diffèrent. "
   ]
  },
  {
   "cell_type": "code",
   "execution_count": 8,
   "metadata": {
    "scrolled": true
   },
   "outputs": [
    {
     "data": {
      "text/plain": [
       "[(-1.0, -23.0), (1.0, -7.0), (3.0, -23.0)]"
      ]
     },
     "execution_count": 8,
     "metadata": {},
     "output_type": "execute_result"
    }
   ],
   "source": [
    "l=[find_root(fd,-2,-1),find_root(fd,1,2),find_root(fd,2.5,3)]\n",
    "l2=[(l[i],f(l[i]))for i in range(len(l))]\n",
    "l2"
   ]
  },
  {
   "cell_type": "code",
   "execution_count": 0,
   "metadata": {
    "scrolled": true
   },
   "outputs": [],
   "source": []
  },
  {
   "cell_type": "code",
   "execution_count": 0,
   "metadata": {},
   "outputs": [],
   "source": []
  },
  {
   "cell_type": "code",
   "execution_count": 0,
   "metadata": {},
   "outputs": [],
   "source": []
  },
  {
   "cell_type": "markdown",
   "metadata": {
    "deletable": false,
    "editable": false,
    "run_control": {
     "frozen": true
    }
   },
   "source": [
    "La méthode `find_root`renvoie une approximation numérique d'une racine de la fonction comprise dans l'intervalle donné en paramètres. Ainsi il peut y avoir une marge d'erreur $\\epsilon$ entre la véritable racine $r$ et la valeur $\\overline{r}= r +\\epsilon$ renvoyée par la méthode. Cette erreur se propage ensuite dans les calculs réalisés à partir de $\\overline{r}$."
   ]
  },
  {
   "cell_type": "markdown",
   "metadata": {
    "deletable": false,
    "editable": false,
    "run_control": {
     "frozen": true
    }
   },
   "source": [
    "Une autre approche consiste à passer par le calcul symbolique pour trouver les racines. La méthode `roots` cherche à calculer toutes les racines de manière exacte dans l'anneau symbolique `SR`. Cependant cette méthode peut échouer à calculer certaines racines. "
   ]
  },
  {
   "cell_type": "markdown",
   "metadata": {},
   "source": [
    "### Question\n",
    "1. Tester la méthode `roots` pour calculer les racines de la fonction $h(x)=x^5 + x^3 + x + 1$.\n",
    "1. En utilisant la méthode `roots`, calculer les racines de $f'$ pour la fonction $f$ de la question précédente.\n",
    "1. S'agit-il à chaque fois d'un minimum local de $f$ ? Sont-ils tous présents ? *Vous afficherez sur un graphique la fonction ainsi que les points correspondants aux racines trouvées*. \n",
    "1. Écrire une fonction qui calcule les minimums locaux d'une fonction polynomiale lorsque la méthode `roots` trouve bien toutes les racines de sa dérivée. **Rappel:** une fonction polynomiale de degrès $d$ a exactement $d$ racines (potentiellement dans la cloture algébrique). Pour récupérer l'erreur potentielle de la méthode `roots`, vous pourrez utiliser les exceptions python:\n",
    "```python:\n",
    "try :\n",
    "      ... # code qui appelle roots     \n",
    "except RuntimeError :\n",
    "      raise ValueError(\"message d'erreur\")\n",
    "```\n",
    "    \n",
    "1. Écrire une fonction qui affiche une fonction polynomiale et tous ses minimums locaux. \n",
    "1. Vérifier que vos fonctions sont correctes en utilisant la fonction $f$ de la question précédente."
   ]
  },
  {
   "cell_type": "code",
   "execution_count": 9,
   "metadata": {},
   "outputs": [
    {
     "ename": "RuntimeError",
     "evalue": "no explicit roots found",
     "output_type": "error",
     "traceback": [
      "\u001b[0;31m---------------------------------------------------------------------------\u001b[0m",
      "\u001b[0;31mRuntimeError\u001b[0m                              Traceback (most recent call last)",
      "\u001b[0;32m<ipython-input-9-434ad86b9a0d>\u001b[0m in \u001b[0;36m<module>\u001b[0;34m\u001b[0m\n\u001b[1;32m      1\u001b[0m \u001b[0m__tmp__\u001b[0m\u001b[0;34m=\u001b[0m\u001b[0mvar\u001b[0m\u001b[0;34m(\u001b[0m\u001b[0;34m\"x\"\u001b[0m\u001b[0;34m)\u001b[0m\u001b[0;34m;\u001b[0m \u001b[0mh\u001b[0m \u001b[0;34m=\u001b[0m \u001b[0msymbolic_expression\u001b[0m\u001b[0;34m(\u001b[0m\u001b[0mx\u001b[0m\u001b[0;34m**\u001b[0m\u001b[0mInteger\u001b[0m\u001b[0;34m(\u001b[0m\u001b[0;36m5\u001b[0m\u001b[0;34m)\u001b[0m\u001b[0;34m+\u001b[0m\u001b[0mx\u001b[0m\u001b[0;34m**\u001b[0m\u001b[0mInteger\u001b[0m\u001b[0;34m(\u001b[0m\u001b[0;36m3\u001b[0m\u001b[0;34m)\u001b[0m\u001b[0;34m+\u001b[0m\u001b[0mx\u001b[0m\u001b[0;34m+\u001b[0m\u001b[0mInteger\u001b[0m\u001b[0;34m(\u001b[0m\u001b[0;36m1\u001b[0m\u001b[0;34m)\u001b[0m\u001b[0;34m)\u001b[0m\u001b[0;34m.\u001b[0m\u001b[0mfunction\u001b[0m\u001b[0;34m(\u001b[0m\u001b[0mx\u001b[0m\u001b[0;34m)\u001b[0m\u001b[0;34m\u001b[0m\u001b[0;34m\u001b[0m\u001b[0m\n\u001b[0;32m----> 2\u001b[0;31m \u001b[0mh\u001b[0m\u001b[0;34m.\u001b[0m\u001b[0mroots\u001b[0m\u001b[0;34m(\u001b[0m\u001b[0;34m)\u001b[0m\u001b[0;34m\u001b[0m\u001b[0;34m\u001b[0m\u001b[0m\n\u001b[0m",
      "\u001b[0;32m/opt/sagemath-9.3/local/lib/python3.7/site-packages/sage/symbolic/expression.pyx\u001b[0m in \u001b[0;36msage.symbolic.expression.Expression.roots (build/cythonized/sage/symbolic/expression.cpp:61688)\u001b[0;34m()\u001b[0m\n\u001b[1;32m  11741\u001b[0m         \u001b[0mS\u001b[0m\u001b[0;34m,\u001b[0m \u001b[0mmul\u001b[0m \u001b[0;34m=\u001b[0m \u001b[0mself\u001b[0m\u001b[0;34m.\u001b[0m\u001b[0msolve\u001b[0m\u001b[0;34m(\u001b[0m\u001b[0mx\u001b[0m\u001b[0;34m,\u001b[0m \u001b[0mmultiplicities\u001b[0m\u001b[0;34m=\u001b[0m\u001b[0;32mTrue\u001b[0m\u001b[0;34m,\u001b[0m \u001b[0mexplicit_solutions\u001b[0m\u001b[0;34m=\u001b[0m\u001b[0mexplicit_solutions\u001b[0m\u001b[0;34m)\u001b[0m\u001b[0;34m\u001b[0m\u001b[0;34m\u001b[0m\u001b[0m\n\u001b[1;32m  11742\u001b[0m         \u001b[0;32mif\u001b[0m \u001b[0mlen\u001b[0m\u001b[0;34m(\u001b[0m\u001b[0mmul\u001b[0m\u001b[0;34m)\u001b[0m \u001b[0;34m==\u001b[0m \u001b[0;36m0\u001b[0m \u001b[0;32mand\u001b[0m \u001b[0mexplicit_solutions\u001b[0m\u001b[0;34m:\u001b[0m\u001b[0;34m\u001b[0m\u001b[0;34m\u001b[0m\u001b[0m\n\u001b[0;32m> 11743\u001b[0;31m             \u001b[0;32mraise\u001b[0m \u001b[0mRuntimeError\u001b[0m\u001b[0;34m(\u001b[0m\u001b[0;34m\"no explicit roots found\"\u001b[0m\u001b[0;34m)\u001b[0m\u001b[0;34m\u001b[0m\u001b[0;34m\u001b[0m\u001b[0m\n\u001b[0m\u001b[1;32m  11744\u001b[0m         \u001b[0;32melse\u001b[0m\u001b[0;34m:\u001b[0m\u001b[0;34m\u001b[0m\u001b[0;34m\u001b[0m\u001b[0m\n\u001b[1;32m  11745\u001b[0m             \u001b[0mrt_muls\u001b[0m \u001b[0;34m=\u001b[0m \u001b[0;34m[\u001b[0m\u001b[0;34m(\u001b[0m\u001b[0mS\u001b[0m\u001b[0;34m[\u001b[0m\u001b[0mi\u001b[0m\u001b[0;34m]\u001b[0m\u001b[0;34m.\u001b[0m\u001b[0mrhs\u001b[0m\u001b[0;34m(\u001b[0m\u001b[0;34m)\u001b[0m\u001b[0;34m,\u001b[0m \u001b[0mmul\u001b[0m\u001b[0;34m[\u001b[0m\u001b[0mi\u001b[0m\u001b[0;34m]\u001b[0m\u001b[0;34m)\u001b[0m \u001b[0;32mfor\u001b[0m \u001b[0mi\u001b[0m \u001b[0;32min\u001b[0m \u001b[0mrange\u001b[0m\u001b[0;34m(\u001b[0m\u001b[0mlen\u001b[0m\u001b[0;34m(\u001b[0m\u001b[0mmul\u001b[0m\u001b[0;34m)\u001b[0m\u001b[0;34m)\u001b[0m\u001b[0;34m]\u001b[0m\u001b[0;34m\u001b[0m\u001b[0;34m\u001b[0m\u001b[0m\n",
      "\u001b[0;31mRuntimeError\u001b[0m: no explicit roots found"
     ]
    }
   ],
   "source": [
    "h(x)=x^5+x^3+x+1\n",
    "h.roots()"
   ]
  },
  {
   "cell_type": "code",
   "execution_count": null,
   "metadata": {},
   "outputs": [],
   "source": [
    "s=fd.roots()\n",
    "s"
   ]
  },
  {
   "cell_type": "code",
   "execution_count": 8,
   "metadata": {},
   "outputs": [
    {
     "data": {
      "text/plain": [
       "[(3, -23), (-1, -23), (1, -7)]"
      ]
     },
     "execution_count": 8,
     "metadata": {},
     "output_type": "execute_result"
    }
   ],
   "source": [
    "def minl(p):\n",
    "    pd(x)=diff(p(x),x)\n",
    "    s=pd.roots()\n",
    "    s2=[s[i][0] for i in range(len(s)) if(s[i][1]==1)]\n",
    "    s3=[(s2[i],p(s2[i]))for i in range(len(s2))]\n",
    "    s4=[]\n",
    "    for i in range(len(s3)):\n",
    "        if(p(s2[i]-0.01)>p(s2[i]))and(p(s2[i]+0.01)>p(s2[i])):\n",
    "            s4.append((s2[i],p(s2[i])))\n",
    "    return s4\n",
    "minl(f)        "
   ]
  },
  {
   "cell_type": "code",
   "execution_count": 7,
   "metadata": {},
   "outputs": [
    {
     "ename": "NameError",
     "evalue": "name 'minl' is not defined",
     "output_type": "error",
     "traceback": [
      "\u001b[0;31m---------------------------------------------------------------------------\u001b[0m",
      "\u001b[0;31mNameError\u001b[0m                                 Traceback (most recent call last)",
      "\u001b[0;32m<ipython-input-7-22e05cd4c4d6>\u001b[0m in \u001b[0;36m<module>\u001b[0;34m\u001b[0m\n\u001b[1;32m      2\u001b[0m     \u001b[0ms\u001b[0m\u001b[0;34m=\u001b[0m\u001b[0mminl\u001b[0m\u001b[0;34m(\u001b[0m\u001b[0mp\u001b[0m\u001b[0;34m)\u001b[0m\u001b[0;34m\u001b[0m\u001b[0;34m\u001b[0m\u001b[0m\n\u001b[1;32m      3\u001b[0m     \u001b[0;32mreturn\u001b[0m \u001b[0mplot\u001b[0m\u001b[0;34m(\u001b[0m\u001b[0mf\u001b[0m\u001b[0;34m,\u001b[0m\u001b[0;34m(\u001b[0m\u001b[0mmi\u001b[0m\u001b[0;34m,\u001b[0m\u001b[0mma\u001b[0m\u001b[0;34m)\u001b[0m\u001b[0;34m)\u001b[0m\u001b[0;34m+\u001b[0m\u001b[0mpoint\u001b[0m\u001b[0;34m(\u001b[0m\u001b[0ms\u001b[0m\u001b[0;34m)\u001b[0m\u001b[0;34m\u001b[0m\u001b[0;34m\u001b[0m\u001b[0m\n\u001b[0;32m----> 4\u001b[0;31m \u001b[0mgraphp\u001b[0m\u001b[0;34m(\u001b[0m\u001b[0mf\u001b[0m\u001b[0;34m,\u001b[0m\u001b[0;34m-\u001b[0m\u001b[0mInteger\u001b[0m\u001b[0;34m(\u001b[0m\u001b[0;36m1\u001b[0m\u001b[0;34m)\u001b[0m\u001b[0;34m,\u001b[0m\u001b[0mInteger\u001b[0m\u001b[0;34m(\u001b[0m\u001b[0;36m3\u001b[0m\u001b[0;34m)\u001b[0m\u001b[0;34m)\u001b[0m\u001b[0;34m\u001b[0m\u001b[0;34m\u001b[0m\u001b[0m\n\u001b[0m",
      "\u001b[0;32m<ipython-input-7-22e05cd4c4d6>\u001b[0m in \u001b[0;36mgraphp\u001b[0;34m(p, mi, ma)\u001b[0m\n\u001b[1;32m      1\u001b[0m \u001b[0;32mdef\u001b[0m \u001b[0mgraphp\u001b[0m\u001b[0;34m(\u001b[0m\u001b[0mp\u001b[0m\u001b[0;34m,\u001b[0m\u001b[0mmi\u001b[0m\u001b[0;34m,\u001b[0m\u001b[0mma\u001b[0m\u001b[0;34m)\u001b[0m\u001b[0;34m:\u001b[0m\u001b[0;34m\u001b[0m\u001b[0;34m\u001b[0m\u001b[0m\n\u001b[0;32m----> 2\u001b[0;31m     \u001b[0ms\u001b[0m\u001b[0;34m=\u001b[0m\u001b[0mminl\u001b[0m\u001b[0;34m(\u001b[0m\u001b[0mp\u001b[0m\u001b[0;34m)\u001b[0m\u001b[0;34m\u001b[0m\u001b[0;34m\u001b[0m\u001b[0m\n\u001b[0m\u001b[1;32m      3\u001b[0m     \u001b[0;32mreturn\u001b[0m \u001b[0mplot\u001b[0m\u001b[0;34m(\u001b[0m\u001b[0mf\u001b[0m\u001b[0;34m,\u001b[0m\u001b[0;34m(\u001b[0m\u001b[0mmi\u001b[0m\u001b[0;34m,\u001b[0m\u001b[0mma\u001b[0m\u001b[0;34m)\u001b[0m\u001b[0;34m)\u001b[0m\u001b[0;34m+\u001b[0m\u001b[0mpoint\u001b[0m\u001b[0;34m(\u001b[0m\u001b[0ms\u001b[0m\u001b[0;34m)\u001b[0m\u001b[0;34m\u001b[0m\u001b[0;34m\u001b[0m\u001b[0m\n\u001b[1;32m      4\u001b[0m \u001b[0mgraphp\u001b[0m\u001b[0;34m(\u001b[0m\u001b[0mf\u001b[0m\u001b[0;34m,\u001b[0m\u001b[0;34m-\u001b[0m\u001b[0mInteger\u001b[0m\u001b[0;34m(\u001b[0m\u001b[0;36m1\u001b[0m\u001b[0;34m)\u001b[0m\u001b[0;34m,\u001b[0m\u001b[0mInteger\u001b[0m\u001b[0;34m(\u001b[0m\u001b[0;36m3\u001b[0m\u001b[0;34m)\u001b[0m\u001b[0;34m)\u001b[0m\u001b[0;34m\u001b[0m\u001b[0;34m\u001b[0m\u001b[0m\n",
      "\u001b[0;31mNameError\u001b[0m: name 'minl' is not defined"
     ]
    }
   ],
   "source": [
    "def graphp(p,mi,ma):\n",
    "    s=minl(p)\n",
    "    return plot(f,(mi,ma))+point(s)\n",
    "graphp(f,-1,3)"
   ]
  },
  {
   "cell_type": "code",
   "execution_count": 0,
   "metadata": {},
   "outputs": [],
   "source": []
  },
  {
   "cell_type": "markdown",
   "metadata": {
    "deletable": false,
    "editable": false,
    "run_control": {
     "frozen": true
    }
   },
   "source": [
    "### Question\n",
    "1. Tester aussi vos fonctions sur sur les fonctions polynomiales suivantes :\n",
    "\n",
    "    -$f_1(x)=15x^6 - 51x^5 - 60x^4 + 185x^3 + 60x^2 - 90x-17$\n",
    "    \n",
    "    -$f_2(x)=3x^5 - \\frac{45}{8}x^4 + \\frac{25}{2}x^3 - \\frac{45}{2}x^2 + 15x+42$\n",
    "    \n",
    "    -$f_3(x)=-5x^6 - 42x^5 - 15x^4 + 640x^3 + 1440x^2 -32$\n",
    "    \n",
    "    -$f_4(x)=-x^7 + \\frac{1}{3}x^6 - \\frac{7}{5}x^5 + \\frac{1}{2}x^4 - \\frac{7}{3}x^3 - \\frac{5}{2}x^2 + 2x$\n",
    "1. Utiliser l'affichage des fonctions pour vérifier vos réponses et adapter votre programme si besoin. *La méthode `factor` appliquée à la dérivée peut aider à comprendre ce qu'il se passe.*\n"
   ]
  },
  {
   "cell_type": "code",
   "execution_count": 9,
   "metadata": {},
   "outputs": [
    {
     "data": {
      "image/png": "[encoded data removed]",
      "text/plain": [
       "Graphics object consisting of 2 graphics primitives"
      ]
     },
     "execution_count": 9,
     "metadata": {},
     "output_type": "execute_result"
    }
   ],
   "source": [
    "f1(x)=15*x^6-51*x^5-60*x^4+185*x^3+60*x^2-90*x-17\n",
    "minl(f1)\n",
    "graphp(f1,-1.5,3)"
   ]
  },
  {
   "cell_type": "code",
   "execution_count": 10,
   "metadata": {},
   "outputs": [
    {
     "data": {
      "text/plain": [
       "[(1/40*sqrt((40*(sqrt(7019)*sqrt(2) + 383)^(2/3) - 319*(sqrt(7019)*sqrt(2) + 383)^(1/3) + 2040)/(sqrt(7019)*sqrt(2) + 383)^(1/3)) + 1/2*sqrt(-1/10*(sqrt(7019)*sqrt(2) + 383)^(1/3) - 51/10/(sqrt(7019)*sqrt(2) + 383)^(1/3) + 9729/200/sqrt((40*(sqrt(7019)*sqrt(2) + 383)^(2/3) - 319*(sqrt(7019)*sqrt(2) + 383)^(1/3) + 2040)/(sqrt(7019)*sqrt(2) + 383)^(1/3)) - 319/200) + 9/40,\n",
       "  1/20480000*(sqrt((40*(sqrt(7019)*sqrt(2) + 383)^(2/3) - 319*(sqrt(7019)*sqrt(2) + 383)^(1/3) + 2040)/(sqrt(7019)*sqrt(2) + 383)^(1/3)) + 20*sqrt(-1/10*(sqrt(7019)*sqrt(2) + 383)^(1/3) - 51/10/(sqrt(7019)*sqrt(2) + 383)^(1/3) + 9729/200/sqrt((40*(sqrt(7019)*sqrt(2) + 383)^(2/3) - 319*(sqrt(7019)*sqrt(2) + 383)^(1/3) + 2040)/(sqrt(7019)*sqrt(2) + 383)^(1/3)) - 319/200) + 9)^5 - 9/4096000*(sqrt((40*(sqrt(7019)*sqrt(2) + 383)^(2/3) - 319*(sqrt(7019)*sqrt(2) + 383)^(1/3) + 2040)/(sqrt(7019)*sqrt(2) + 383)^(1/3)) + 20*sqrt(-1/10*(sqrt(7019)*sqrt(2) + 383)^(1/3) - 51/10/(sqrt(7019)*sqrt(2) + 383)^(1/3) + 9729/200/sqrt((40*(sqrt(7019)*sqrt(2) + 383)^(2/3) - 319*(sqrt(7019)*sqrt(2) + 383)^(1/3) + 2040)/(sqrt(7019)*sqrt(2) + 383)^(1/3)) - 319/200) + 9)^4 + 1/5120*(sqrt((40*(sqrt(7019)*sqrt(2) + 383)^(2/3) - 319*(sqrt(7019)*sqrt(2) + 383)^(1/3) + 2040)/(sqrt(7019)*sqrt(2) + 383)^(1/3)) + 20*sqrt(-1/10*(sqrt(7019)*sqrt(2) + 383)^(1/3) - 51/10/(sqrt(7019)*sqrt(2) + 383)^(1/3) + 9729/200/sqrt((40*(sqrt(7019)*sqrt(2) + 383)^(2/3) - 319*(sqrt(7019)*sqrt(2) + 383)^(1/3) + 2040)/(sqrt(7019)*sqrt(2) + 383)^(1/3)) - 319/200) + 9)^3 - 9/640*(sqrt((40*(sqrt(7019)*sqrt(2) + 383)^(2/3) - 319*(sqrt(7019)*sqrt(2) + 383)^(1/3) + 2040)/(sqrt(7019)*sqrt(2) + 383)^(1/3)) + 20*sqrt(-1/10*(sqrt(7019)*sqrt(2) + 383)^(1/3) - 51/10/(sqrt(7019)*sqrt(2) + 383)^(1/3) + 9729/200/sqrt((40*(sqrt(7019)*sqrt(2) + 383)^(2/3) - 319*(sqrt(7019)*sqrt(2) + 383)^(1/3) + 2040)/(sqrt(7019)*sqrt(2) + 383)^(1/3)) - 319/200) + 9)^2 + 3/8*sqrt((40*(sqrt(7019)*sqrt(2) + 383)^(2/3) - 319*(sqrt(7019)*sqrt(2) + 383)^(1/3) + 2040)/(sqrt(7019)*sqrt(2) + 383)^(1/3)) + 15/2*sqrt(-1/10*(sqrt(7019)*sqrt(2) + 383)^(1/3) - 51/10/(sqrt(7019)*sqrt(2) + 383)^(1/3) + 9729/200/sqrt((40*(sqrt(7019)*sqrt(2) + 383)^(2/3) - 319*(sqrt(7019)*sqrt(2) + 383)^(1/3) + 2040)/(sqrt(7019)*sqrt(2) + 383)^(1/3)) - 319/200) + 363/8)]"
      ]
     },
     "execution_count": 10,
     "metadata": {},
     "output_type": "execute_result"
    }
   ],
   "source": [
    "f2(x)=5*x^5-(45/8)*x^4+(25/2)*x^3-(45/2)*x^2+15*x+42\n",
    "minl(f2)\n"
   ]
  },
  {
   "cell_type": "code",
   "execution_count": 142,
   "metadata": {},
   "outputs": [
    {
     "data": {
      "image/png": "[encoded data removed]",
      "text/plain": [
       "Graphics object consisting of 2 graphics primitives"
      ]
     },
     "execution_count": 142,
     "metadata": {},
     "output_type": "execute_result"
    }
   ],
   "source": [
    "f3(x)=-5*x^6-42*x^5-15*x^4+640*x^3+1440*x^2-32\n",
    "minl(f3)\n",
    "fd3(x)=diff(f3(x),x)\n",
    "solve(fd3,x)\n",
    "fd3.roots()\n",
    "plot(fd3,(-4,3),color='red')+plot(f3,(-4,3))\n",
    "minl(f3)\n",
    "graphp(f3,-2,2)"
   ]
  },
  {
   "cell_type": "code",
   "execution_count": 11,
   "metadata": {},
   "outputs": [
    {
     "name": "stderr",
     "output_type": "stream",
     "text": [
      "/opt/sagemath-9.3/local/lib/python3.7/site-packages/sage/repl/ipython_kernel/__main__.py:5: DeprecationWarning: Substitution using function-call syntax and unnamed arguments is deprecated and will be removed from a future release of Sage; you can use named arguments instead, like EXPR(x=..., y=...)\n",
      "See http://trac.sagemath.org/5930 for details.\n"
     ]
    },
    {
     "data": {
      "text/plain": [
       "[]"
      ]
     },
     "execution_count": 11,
     "metadata": {},
     "output_type": "execute_result"
    }
   ],
   "source": [
    "f4=-x^7+(1/3)*x^6-(7/5)*x^5+(1/2)*x^4-(7/3)*x^3-(5/2)*x^2+2*x\n",
    "fd4(x)=diff(f4(x),x)\n",
    "fd4.roots()\n",
    "plot(fd4.factor(),(-1,1))+plot(f4.factor(),(-1,1))\n",
    "minl(f4)"
   ]
  },
  {
   "cell_type": "code",
   "execution_count": 0,
   "metadata": {},
   "outputs": [],
   "source": []
  },
  {
   "cell_type": "code",
   "execution_count": 0,
   "metadata": {},
   "outputs": [],
   "source": []
  },
  {
   "cell_type": "code",
   "execution_count": 0,
   "metadata": {},
   "outputs": [],
   "source": []
  },
  {
   "cell_type": "code",
   "execution_count": 0,
   "metadata": {},
   "outputs": [],
   "source": []
  },
  {
   "cell_type": "markdown",
   "metadata": {
    "deletable": false,
    "editable": false,
    "run_control": {
     "frozen": true
    }
   },
   "source": [
    "Dans la suite du TP, nous allons voir des méthodes pour calculer une approximation numérique $\\overline{r}$ d'une racine $r$ d'une fonction à une précision voulue en réglant la taille possible de l'erreur $\\epsilon$ telle que $\\overline{r}=r + \\epsilon$."
   ]
  },
  {
   "cell_type": "markdown",
   "metadata": {
    "deletable": false,
    "editable": false,
    "run_control": {
     "frozen": true
    }
   },
   "source": [
    "## Dichotomie\n",
    "\n",
    "Cette méthode considère une fonction continue $f$ et un intervalle $[a,b]$ tel que $f(a)$ et $f(b)$ sont de signes différents ($f(a)\\times f(b)<0$). Comme $f$ est continue, il existe forcément un point $x\\in[a,b]$ tel que $f(x)=0$.\n",
    "A chaque étape la méthode divise l'intervalle de recherche par $2$ en choisissant le sous-intervalle contenant la racine (signes des évaluations des extrémités différents). \n",
    "\n",
    "Quand l'intervalle est plus petit que la précision voulue tout point de cet intervalle est alors une bonne approximation de la racine. La méthode devra s'arrêter avant si l'une des deux extrémités de l'intervalle est la racine."
   ]
  },
  {
   "cell_type": "markdown",
   "metadata": {
    "deletable": false,
    "editable": false,
    "run_control": {
     "frozen": true
    }
   },
   "source": [
    "### Question\n",
    " Ecrire un algorithme récursif `dicho_roots` qui prend en entrée une fonction continue $f$, les extrémités d'un intervalle de recherche $[a,b]$ et une précision $p<1$ et qui calcule par dichotomie une approximation numérique d'une racine de $f$ dans l'intervalle $[a,b]$ à la précision $p$. \n",
    "\n",
    "**Rappel:** si $p=0,01$ cela signifie que l'on veut que la racine soit correcte jusqu'au deuxième chiffre après la virgules. Autrement dit, on cherche un intervalle $[\\alpha, \\beta] \\subset [a,b]$ tel que $|\\beta-\\alpha|\\leq p$. \n",
    "\n",
    "**Attention**, pour que la méthode `dicho_roots` fonctionne, il faut que les calculs se fassent dans la précision désirée (on utilisera donc un `RealField` adéquat, qui a une précision en bit de $1+\\log_2(1/p)$).\n",
    "\n",
    "1. Utiliser votre algorithme pour calculer une approximation numérique des racines  des fonctions $f'$ et $h$ définies dans la partie précédente. *Vous utiliserez l'affichage des fonctions pour définir les intervalles de recherche de départ et vous prendrez une précision de calcul des float (soit $2^{-23}$)*\n",
    "1. Modifier votre algorithme pour qu'il renvoie aussi le nombre d'étapes (c'est à dire le nombre d'intervalles de recherches différents utilisés).\n",
    "1. Trouver un réel $a$ et un paramètre de précision $p$ permettant d'avoir des résultats plus précis avec la méthode `dicho_roots` qu'avec la méthode `find_root` sur les intervalles $[a+i,a+i+1], \\forall i \\in \\{0,1,2,3,4\\}$. "
   ]
  },
  {
   "cell_type": "code",
   "execution_count": 4,
   "metadata": {},
   "outputs": [
    {
     "name": "stdout",
     "output_type": "stream",
     "text": [
      "1\n",
      "-1.0\n",
      "0\n",
      "-1.0\n",
      "-1\n",
      "0.0\n",
      "-2\n",
      "1.0\n",
      "-3\n",
      "2.0\n"
     ]
    }
   ],
   "source": [
    "def dico(f,a,b,p,e):\n",
    "    l=abs(b-a)\n",
    "    while(l>p)and(f(a)*f(b)<0):\n",
    "        return dico(f,a+(l/2),b+(l/2),p,e+1)\n",
    "    return b-a\n",
    "solve(fd,x),dico(fd,-10,10,0.5,0)\n",
    "a=-2\n",
    "for i in range(5):\n",
    "    print(dico(fd,a+i,a+1,2^(-23),0))\n",
    "    print(find_root(fd,a+i,a+i+1))\n",
    "#a=-3"
   ]
  },
  {
   "cell_type": "code",
   "execution_count": 3,
   "metadata": {},
   "outputs": [
    {
     "data": {
      "text/plain": [
       "6.65821148275179"
      ]
     },
     "execution_count": 3,
     "metadata": {},
     "output_type": "execute_result"
    }
   ],
   "source": [
    "log((1/0.01)+1,2)"
   ]
  },
  {
   "cell_type": "code",
   "execution_count": 16,
   "metadata": {},
   "outputs": [
    {
     "data": {
      "text/plain": [
       "4.0"
      ]
     },
     "execution_count": 16,
     "metadata": {},
     "output_type": "execute_result"
    }
   ],
   "source": [
    "p=0.01\n",
    "f(2).n(log((1/p)+1,2))"
   ]
  },
  {
   "cell_type": "code",
   "execution_count": 0,
   "metadata": {},
   "outputs": [],
   "source": []
  },
  {
   "cell_type": "markdown",
   "metadata": {
    "deletable": false,
    "editable": false,
    "run_control": {
     "frozen": true
    }
   },
   "source": [
    "## Fausse position\n",
    "\n",
    "Pour cette méthode plutôt que de diviser systématiquement l'intervalle $[a,b]$ en deux, on utilise les valeurs de la fonction $f'$ pour couper l'intervalle. En particulier, on coupe l'intervalle en un point $m$ qui est à l'intersection de l'axe des abscisses et de la droite qui passe par les point $(a,f'(a))$ et $(b,f'(b))$\n",
    "\n",
    "La même règle des signes permet de déterminer dans quel intervalle ($[a,m]$ ou $[m,b]$) se trouve une racine."
   ]
  },
  {
   "cell_type": "markdown",
   "metadata": {
    "deletable": false,
    "editable": false,
    "run_control": {
     "frozen": true
    }
   },
   "source": [
    "### Question\n",
    "1. Sachant qu'une droite est une fonction de la forme $d(x)=\\alpha x + \\beta$. Donner une fonction qui calcule la droite passant par des points $p_1=(x_1,y_1)$ et $p_2=(x_2,y_2)$.\n",
    "1. Pour $a=-0.8$, $b=0.8$ et la fonction $f'$ calculer la droite $d$ passant par $(a,f'(a))$ et $(b,f'(b))$.\n",
    "1. Déterminer le point $m$ où la droite $d(x)$ vaut $0$ et calculer $f'(m)$. Grâce à la règle des signes déterminer dans quel sous-intervalle de $[a,m]$ ou $[m,b]$ se trouve une une racine de $f'$.\n",
    "1. Représenter graphiquement ces différentes étapes (la fonction sur $[a,b]$, la droite, le point $m$, $f'(m)$ et le nouvel intervalle). *Utiliser des couleurs pour faciliter la lecture des graphiques.*\n",
    "1. Réduiser une fois de plus l'intervalle et compléter le graphique."
   ]
  },
  {
   "cell_type": "code",
   "execution_count": 3,
   "metadata": {},
   "outputs": [
    {
     "data": {
      "text/plain": [
       "x |--> -28.6848000000000*x + 13.8240000000000"
      ]
     },
     "execution_count": 3,
     "metadata": {},
     "output_type": "execute_result"
    }
   ],
   "source": [
    "var('x')\n",
    "def dpp(x1,x2,y1,y2):\n",
    "    al=((y2-y1)/(x2-x1))\n",
    "    be=y1-al*x1\n",
    "    d(x)=al*x+be\n",
    "    return d\n",
    "d=dpp(0.8,-0.8,fd(0.8),fd(-0.8))\n",
    "(solve(d,x))[0].rhs()\n",
    "m=((solve(d,x))[0].rhs(),fd((solve(d,x))[0].rhs()))    \n",
    "m  \n",
    "dpp(0.8,-0.8,fd(0.8),fd(-0.8))"
   ]
  },
  {
   "cell_type": "code",
   "execution_count": 0,
   "metadata": {},
   "outputs": [],
   "source": []
  },
  {
   "cell_type": "code",
   "execution_count": 0,
   "metadata": {},
   "outputs": [],
   "source": []
  },
  {
   "cell_type": "code",
   "execution_count": 0,
   "metadata": {},
   "outputs": [],
   "source": []
  },
  {
   "cell_type": "code",
   "execution_count": 0,
   "metadata": {},
   "outputs": [],
   "source": []
  },
  {
   "cell_type": "code",
   "execution_count": 0,
   "metadata": {},
   "outputs": [],
   "source": []
  },
  {
   "cell_type": "code",
   "execution_count": 0,
   "metadata": {},
   "outputs": [],
   "source": []
  },
  {
   "cell_type": "markdown",
   "metadata": {
    "deletable": false,
    "editable": false,
    "run_control": {
     "frozen": true
    }
   },
   "source": [
    "###  Question\n",
    "1. Ecrire un algorithme récursif `fausse_position_roots` qui prend en entrée une fonction continue $f$, les extrémités d'un intervalle $[a,b]$ de recherche et une précision $p$ et qui calcule par la fausse position une approximation numérique d'une racine de $f$ dans $[a,b]$ à la précision $p$.\n",
    "1. Utiliser votre algorithme pour calculer une approximation numérique des racines  des fonctions $f'$ et $h$.\n",
    "1. Modifier votre algorithme pour qu'il renvoie aussi le nombre d'intervalles de recherches différents utilisés.\n",
    "1. Comparer le nombre d'étapes des deux méthodes dichotomie et fausse position en cherchant sur le même intervalle $[a+i,a+i+1], \\forall i \\in \\{0,1,2,3,4\\}$ avec $a=-1.3$ et la même précision $p=2^{-20}$. Refaite le calcul avec $a= -1.00000001$. À votre avis quelle est la meilleure méthode."
   ]
  },
  {
   "cell_type": "code",
   "execution_count": 21,
   "metadata": {},
   "outputs": [
    {
     "data": {
      "text/plain": [
       "(-26292565384280/848154876434943,\n",
       " 334712412293511409189914814252170182570698494580249798082881397154600358720/146303448255963593884864560601386317851506471442082628776692466569610160981)"
      ]
     },
     "execution_count": 21,
     "metadata": {},
     "output_type": "execute_result"
    }
   ],
   "source": [
    "var('x')\n",
    "def fpr(f,a,b,p):\n",
    "    d=dpp(a,b,f(a),f(b))\n",
    "    s=solve(d,x)\n",
    "    m=s[0].rhs()\n",
    "    if(abs(b-a)<=p)and(f(a)*f(b)<0):\n",
    "        return (m,f(m))\n",
    "    else:\n",
    "        if(f(m)>0):\n",
    "            return fpr(f,a,m,p)\n",
    "        else:\n",
    "            return fpr(f,m,b,p)\n",
    "        \n",
    "fpr(fd,0.8,-0.8,1)"
   ]
  },
  {
   "cell_type": "code",
   "execution_count": 0,
   "metadata": {},
   "outputs": [],
   "source": [
    "        if(f(m)>0):\n",
    "            return fpr(f,a,m,p)\n",
    "        else:\n",
    "            return fpr(f,m,b,p"
   ]
  },
  {
   "cell_type": "code",
   "execution_count": 0,
   "metadata": {},
   "outputs": [],
   "source": []
  },
  {
   "cell_type": "code",
   "execution_count": 0,
   "metadata": {},
   "outputs": [],
   "source": []
  },
  {
   "cell_type": "code",
   "execution_count": 0,
   "metadata": {},
   "outputs": [],
   "source": []
  },
  {
   "cell_type": "markdown",
   "metadata": {
    "deletable": false,
    "editable": false,
    "run_control": {
     "frozen": true
    }
   },
   "source": [
    "## Méthode de Newton\n",
    "Dans la méthode de la fausse position la fonction est approchée par une droite passant par les deux points aux extrémités de l'intervalle.\n",
    "Dans la méthode de Newton, la fonction est approchée par sa tangente.\n",
    "Cependant, cette fois-ci la progression ne se fait pas d'intervalle en intervalle mais de point en point. Autrement dit, on va partir d'une approximation très grossière de notre racine et on va l'affiner au fur et à mesure des étapes. En partant d'un point $a$, le point suivant est donné par le zéro de la tangente en $a$. Quand l'écart entre deux points consécutifs est inférieur à la précision, on peut renvoyer le dernier point calculé."
   ]
  },
  {
   "cell_type": "markdown",
   "metadata": {
    "deletable": false,
    "editable": false,
    "run_control": {
     "frozen": true
    }
   },
   "source": [
    "### Question\n",
    "1. Ecrire une fonction calculant la tangente à une fonction $g$ en un point $a$. *Il s'agit de la droite passant par le point $(a,g(a))$ et de pente $g'(a)$.* \n",
    ">Vous vérifierez votre code pour la fonction $x\\mapsto x^2-2x+8$ dont la tangente en $x=3$ correspond à la fonction $x \\mapsto 4x-1$\n",
    "1. Pour la fonction $h$, avec $a=-1.2$, calculer la tangente $T_a(x)$ à $h(x)$ en $a$ et représenter sur un même graphique $h(x)$ et $T_a(x)$.\n",
    "1. Trouver le point $x_a$ tel que $T_a(x_a)=0$ et calculer la tangente à $h(x)$ en ce point $x_a$. Compléter le graphique. *Le zéro peut aussi être calculer directement sans calculer la tangente*\n",
    "1. Reproduire cette étape jusqu'à avoir visuellement l'impression qu'une tangente et la courbe ont le même zéro."
   ]
  },
  {
   "cell_type": "code",
   "execution_count": 28,
   "metadata": {},
   "outputs": [
    {
     "data": {
      "text/plain": [
       "2*x + 3"
      ]
     },
     "execution_count": 28,
     "metadata": {},
     "output_type": "execute_result"
    }
   ],
   "source": [
    "var('a x')\n",
    "g(x)=x^2-2*x+8\n",
    "gd(x)=diff(g(x),x)\n",
    "y=gd(a)(x-a)+g(a)\n",
    "y.subs(a=3)"
   ]
  },
  {
   "cell_type": "code",
   "execution_count": 0,
   "metadata": {},
   "outputs": [],
   "source": []
  },
  {
   "cell_type": "code",
   "execution_count": 0,
   "metadata": {},
   "outputs": [],
   "source": []
  },
  {
   "cell_type": "code",
   "execution_count": 0,
   "metadata": {},
   "outputs": [],
   "source": []
  },
  {
   "cell_type": "code",
   "execution_count": 0,
   "metadata": {},
   "outputs": [],
   "source": []
  },
  {
   "cell_type": "code",
   "execution_count": 0,
   "metadata": {},
   "outputs": [],
   "source": []
  },
  {
   "cell_type": "markdown",
   "metadata": {
    "deletable": false,
    "editable": false,
    "run_control": {
     "frozen": true
    }
   },
   "source": [
    "### Question\n",
    "1. Ecrire un algorithme qui applique la méthode de Newton pour renvoyer une racine d'une fonction dérivable $f$. Votre algorithme prendra en entrée la fonction $f$ ainsi qu'un point de départ $a$ (proche d'une racine) et une précision $p$.\n",
    "1. Utiliser votre algorithme sur les fonctions $f'$ et $h$ avec différents points de départ pour trouver toutes leurs racines.\n",
    "1. Ajouter un compteur permettant de connaitre le nombre de points calculés. Comparer cette méthode avec les deux précédentes sur la fonction $h$ en prenant comme départ $a=-1.2$ et $b=0$. Laquelle arrive à une précision donnée le plus rapidement?"
   ]
  },
  {
   "cell_type": "code",
   "execution_count": 0,
   "metadata": {},
   "outputs": [],
   "source": []
  },
  {
   "cell_type": "code",
   "execution_count": 0,
   "metadata": {},
   "outputs": [],
   "source": []
  },
  {
   "cell_type": "code",
   "execution_count": 0,
   "metadata": {},
   "outputs": [],
   "source": []
  },
  {
   "cell_type": "code",
   "execution_count": 0,
   "metadata": {},
   "outputs": [],
   "source": []
  },
  {
   "cell_type": "code",
   "execution_count": 0,
   "metadata": {},
   "outputs": [],
   "source": []
  },
  {
   "cell_type": "code",
   "execution_count": 0,
   "metadata": {},
   "outputs": [],
   "source": []
  }
 ],
 "metadata": {
  "kernelspec": {
   "display_name": "SageMath 9.5",
   "language": "sage",
   "name": "sagemath"
  },
  "language_info": {
   "codemirror_mode": {
    "name": "ipython",
    "version": 3
   },
   "file_extension": ".py",
   "mimetype": "text/x-python",
   "name": "python",
   "nbconvert_exporter": "python",
   "pygments_lexer": "ipython3",
   "version": "3.10.6"
  },
  "toc": {
   "base_numbering": 1,
   "nav_menu": {},
   "number_sections": true,
   "sideBar": true,
   "skip_h1_title": true,
   "title_cell": "Table of Contents",
   "title_sidebar": "Contents",
   "toc_cell": false,
   "toc_position": {},
   "toc_section_display": true,
   "toc_window_display": true
  },
  "varInspector": {
   "cols": {
    "lenName": 16,
    "lenType": 16,
    "lenVar": 40
   },
   "kernels_config": {
    "python": {
     "delete_cmd_postfix": "",
     "delete_cmd_prefix": "del ",
     "library": "var_list.py",
     "varRefreshCmd": "print(var_dic_list())"
    },
    "r": {
     "delete_cmd_postfix": ") ",
     "delete_cmd_prefix": "rm(",
     "library": "var_list.r",
     "varRefreshCmd": "cat(var_dic_list()) "
    }
   },
   "types_to_exclude": [
    "module",
    "function",
    "builtin_function_or_method",
    "instance",
    "_Feature"
   ],
   "window_display": false
  }
 },
 "nbformat": 4,
 "nbformat_minor": 2
}

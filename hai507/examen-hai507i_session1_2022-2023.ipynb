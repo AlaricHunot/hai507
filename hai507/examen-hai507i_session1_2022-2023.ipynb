{
 "cells": [
  {
   "cell_type": "code",
   "execution_count": null,
   "id": "ecd30bcc",
   "metadata": {},
   "outputs": [],
   "source": []
  },
  {
   "cell_type": "code",
   "execution_count": null,
   "id": "429569f6",
   "metadata": {},
   "outputs": [],
   "source": [
    "#NOM :HUNOT-MARTIN\n",
    "#Prénom:alaric\n",
    "#Numéro étudiant:21902164"
   ]
  },
  {
   "cell_type": "markdown",
   "id": "a8b52a3c",
   "metadata": {
    "deletable": false,
    "editable": false
   },
   "source": [
    "# Retours sur vos connaissances\n",
    "\n",
    "Toutes les fonctions que vous devrez utiliser dans cette partie ont déjà été vues et utilisées dans vos TPs."
   ]
  },
  {
   "cell_type": "markdown",
   "id": "5de9f5e3",
   "metadata": {
    "deletable": false,
    "editable": false
   },
   "source": [
    "## Interpolation de fonctions polynômiales\n",
    "On se donne une liste de points rationnel dans le plan :\n",
    "E= [(-10, 3/4),\n",
    "  (-5, -14/3),\n",
    "  (-5/2, 15),\n",
    "  (1, -20),\n",
    "  (2, -10),\n",
    "  (-8, -15881/280),\n",
    "  (-4, 94441/9240),\n",
    "  (0, -213065/16632)]\n",
    "  "
   ]
  },
  {
   "cell_type": "code",
   "execution_count": null,
   "id": "03cb094f",
   "metadata": {
    "deletable": false,
    "editable": false
   },
   "outputs": [],
   "source": [
    "E= [(-10, 3/4), (-5, -14/3), (-5/2, 15), (-1,2033/3850), (1, -20), (2, -10), (-8, -15881/280), (-4, 94441/9240), (0, -213065/16632)]"
   ]
  },
  {
   "cell_type": "markdown",
   "id": "878b1c14",
   "metadata": {
    "deletable": false,
    "editable": false
   },
   "source": [
    "1. Utiliser la fonction sage adéquate pour calculer une approximation numérique d'un polynôme à coefficient réel de degrès 3  qui passe au plus proche des points de E. **Aide:** on n'utilise pas l'algèbre linéaire.  Vous stockerez le polynôme résultat dans la fonction symbolique `P1(x)=...`\n",
    "\n",
    "\n",
    "2. Faite le même calcul mais en cherchant un polynôme de degrès 6. Vous stockerez le polynôme résultat dans la fonction symbolique `P2(x)=...` \n",
    "\n",
    "\n",
    "3. Afficher vos polynômes `P1(x)`, `P2(x)` ainsi que que tous les points de E sur un graphique pour visualiser les résultats. Vous devrez choisir des couleurs différentes pour `P1`, `P2` et les points de `E`. Vos résultats doivent être entièrement visibles sur le graphique.\n",
    "\n",
    "\n",
    "4. Cette fois-ci, on cherche un polynôme à coefficient rationnel de plus petit degrès qui passe par tous les points de E. Votre méthode doit forcemment passer par du calcul exact et de l'algèbre linéaire. Vous écrirez ce polynôme dans la fonction symbolique `P3(x)=...` \n",
    "\n",
    "\n",
    "5. Justifier par du calcul ou par un raisonnement que votre `P3(x)` a bien le dégrès le plus petit possible.\n",
    "\n",
    "\n",
    "6. Donner une explication sur le fait que l'affichage sur un graphique des fonctions polynomiales `P2(x)` et `P3(x)` produise le même résultat alors que leur degré est différent. Votre conclusion sera donnée sous la forme d'un commentaire et devra forcemment être illustrée par un calcul."
   ]
  },
  {
   "cell_type": "code",
   "execution_count": null,
   "id": "a3d3b6e8",
   "metadata": {
    "deletable": false,
    "editable": false
   },
   "outputs": [],
   "source": [
    "# NE PAS MODIFIER\n",
    "q111=0\n",
    "q112=0\n",
    "q113=0\n",
    "q114=0"
   ]
  },
  {
   "cell_type": "code",
   "execution_count": 151,
   "id": "b409ea6d",
   "metadata": {},
   "outputs": [
    {
     "data": {
      "text/plain": [
       "x |--> -12.810545944348092*x^6 - 11.864159472427547*x^5 + 2.9546127989113966*x^4 + 1.600133482153331*x^3 + 0.11995911554390672*x^2 - (2.2466473126314668e-12)*x - 2.185807090882008e-12"
      ]
     },
     "execution_count": 151,
     "metadata": {},
     "output_type": "execute_result"
    }
   ],
   "source": [
    "# REPONSE 1.1 (1)\n",
    "var('a b c d e f g')\n",
    "p(x)=a*x^2+b*x+c\n",
    "E= [(-10, 3/4), (-5, -14/3), (-5/2, 15), (-1,2033/3850), (1, -20), (2, -10), (-8, -15881/280), (-4, 94441/9240), (0, -213065/16632)]\n",
    "r=find_fit(E,p)\n",
    "p1(x)=r[0].rhs()*x^2+r[1].rhs()*x+r[2].rhs()\n",
    "p1\n"
   ]
  },
  {
   "cell_type": "code",
   "execution_count": null,
   "id": "8bf449e0",
   "metadata": {},
   "outputs": [],
   "source": []
  },
  {
   "cell_type": "code",
   "execution_count": null,
   "id": "01c7afbf",
   "metadata": {},
   "outputs": [],
   "source": [
    "# REPONSE 1.1 (2)\n",
    "q(x)=a*x^6+b*x^5+c*x^4+d*x^3+e*x^2+f*x+g\n",
    "r=find_fit(E,q)\n",
    "p=sum(r[i].rhs()*x^i for i in range(len(r)))\n",
    "p2(x)=p\n",
    "p2"
   ]
  },
  {
   "cell_type": "code",
   "execution_count": null,
   "id": "13d6b21b",
   "metadata": {},
   "outputs": [],
   "source": []
  },
  {
   "cell_type": "code",
   "execution_count": 154,
   "id": "d56e0f96",
   "metadata": {},
   "outputs": [
    {
     "data": {
      "image/png": "[encoded data removed]",
      "text/plain": [
       "Graphics object consisting of 2 graphics primitives"
      ]
     },
     "execution_count": 154,
     "metadata": {},
     "output_type": "execute_result"
    }
   ],
   "source": [
    "# REPONSE 1.1 (3)\n",
    "plot(p1,(-100,100))+plot(p2,(-100,100),color='red')"
   ]
  },
  {
   "cell_type": "code",
   "execution_count": 158,
   "id": "d4b3d17d",
   "metadata": {},
   "outputs": [
    {
     "data": {
      "text/plain": [
       "3/4"
      ]
     },
     "execution_count": 158,
     "metadata": {},
     "output_type": "execute_result"
    }
   ],
   "source": [
    "len(E)\n",
    "E[0][1]"
   ]
  },
  {
   "cell_type": "code",
   "execution_count": 183,
   "id": "647a6cc0",
   "metadata": {},
   "outputs": [
    {
     "data": {
      "text/plain": [
       "x |--> -1094114669/181288800*x + 847681243/997088400"
      ]
     },
     "execution_count": 183,
     "metadata": {},
     "output_type": "execute_result"
    }
   ],
   "source": [
    "# REPONSE 1.1 (4)\n",
    "l=[[1,E[i][0]]for i in range(len(E))]\n",
    "a=matrix(l)\n",
    "a\n",
    "l2=[E[i][1] for i in range(len(E))]\n",
    "l2\n",
    "b=matrix(9,1,l2)\n",
    "b\n",
    "l3=[E[i][0] for i in range(len(E))]\n",
    "at=matrix([[1,1,1,1,1,1,1,1,1],l3])\n",
    "at\n",
    "h=at*a\n",
    "c=at*b\n",
    "r=h.solve_right(c)\n",
    "a=r[0][0]\n",
    "b=r[1][0]\n",
    "p3(x)=a*x+b\n",
    "p3"
   ]
  },
  {
   "cell_type": "code",
   "execution_count": 190,
   "id": "54b80a7a",
   "metadata": {
    "scrolled": false
   },
   "outputs": [
    {
     "data": {
      "image/png": "[encoded data removed]",
      "text/plain": [
       "Graphics object consisting of 2 graphics primitives"
      ]
     },
     "execution_count": 190,
     "metadata": {},
     "output_type": "execute_result"
    }
   ],
   "source": [
    "plot(p3)+plot(p2)"
   ]
  },
  {
   "cell_type": "code",
   "execution_count": null,
   "id": "97b096a2",
   "metadata": {},
   "outputs": [],
   "source": [
    "# REPONSE 1.1 (5)\n"
   ]
  },
  {
   "cell_type": "code",
   "execution_count": null,
   "id": "c190f116",
   "metadata": {},
   "outputs": [],
   "source": []
  },
  {
   "cell_type": "code",
   "execution_count": null,
   "id": "9b9a9b13",
   "metadata": {},
   "outputs": [],
   "source": [
    "# REPONSE 1.1 (6)"
   ]
  },
  {
   "cell_type": "code",
   "execution_count": null,
   "id": "15553681",
   "metadata": {
    "scrolled": false
   },
   "outputs": [],
   "source": []
  },
  {
   "cell_type": "markdown",
   "id": "ed5c87f9",
   "metadata": {
    "deletable": false,
    "editable": false
   },
   "source": [
    "## Algèbre linéaire\n",
    "On se donne la matrice $A$ suivante dont les coefficients sont définis dans $GF(7)$.\n",
    "\n",
    "$A= \\begin{bmatrix} 0 & 1 & 4 & 1 \\\\ 3 & 2 & 1 & 0 \\\\ 1 & 1 & 1 & 6 \\\\ 5 & 0 & 1 &0 \\end{bmatrix}$\n",
    "\n",
    "1. Faite le calcul nécessaire, avec une fonction sage, pour savoir si les colonnes de $A$ sont linéairement indépendantes. \n"
   ]
  },
  {
   "cell_type": "code",
   "execution_count": null,
   "id": "51b9e9b4",
   "metadata": {
    "deletable": false,
    "editable": false
   },
   "outputs": [],
   "source": [
    "# NE PAS MODIFIER\n",
    "q121=0"
   ]
  },
  {
   "cell_type": "code",
   "execution_count": 19,
   "id": "95709f2c",
   "metadata": {},
   "outputs": [
    {
     "data": {
      "text/plain": [
       "[  1   0   0 114]\n",
       "[  0   1   0 119]\n",
       "[  0   0   1  92]\n",
       "[  0   0   0 222]"
      ]
     },
     "execution_count": 19,
     "metadata": {},
     "output_type": "execute_result"
    }
   ],
   "source": [
    "# REPONSE 1.2 (1)\n",
    "a=matrix([[0,1,4,1],[3,2,1,0],[1,1,1,6],[5,0,1,0]])\n",
    "a\n",
    "nl=len(a.rows())\n",
    "nc=len(a.columns())\n",
    "at=matrix([[0,3,1,5],[1,2,1,0],[4,1,1,1],[1,0,6,0]])\n",
    "at.echelon_form()\n",
    "#non car derniere ligne != ligne nul\n"
   ]
  },
  {
   "cell_type": "code",
   "execution_count": null,
   "id": "f47404b2",
   "metadata": {
    "scrolled": true
   },
   "outputs": [],
   "source": []
  },
  {
   "cell_type": "markdown",
   "id": "09f558bf",
   "metadata": {},
   "source": [
    "## Un problème d'algèbre linéaire"
   ]
  },
  {
   "cell_type": "markdown",
   "id": "b6193855",
   "metadata": {
    "deletable": false,
    "editable": false
   },
   "source": [
    "Trois milliardaires X, Y et Z décident d’égaliser leurs fortunes de la manière suivante : X versera la moitié de sa fortune à Y, puis Y versera la moitié de sa fortune à Z, puis Z versera la moitié de sa fortune à X. Ensuite, ils renouvelleront ce cycle de trois opérations jusqu’à ce que leurs fortunes se stabilisent. Lequel des trois milliardaires a proposé cette méthode de partage saugrenue ? Votre réponse devra être justifiée par un calcul\n",
    "\n",
    "**Aide :** on notera `xn, yn, zn` les fortunes respectives de `X, Y, Z` après n cycles de transactions et `x0,y0,z0` leurs valeurs initiales. On cherche donc à calculer l'expression symbolique des fortunes de chacun en fonction de n. Attention, votre calcul devra être obligatoirement symbolique. \n",
    "1. Donner la matrice $M$ telle que \n",
    "$$\\begin{bmatrix} x1\\\\ y1 \\\\z1 \\end{bmatrix}  = M\\begin{bmatrix} x0\\\\ y0 \\\\z0 \\end{bmatrix}$$\n",
    "\n",
    "\n",
    "2. Exprimer le vecteur $v=(xn, yn, zn)$ en fonction de $(x0, y0, z0)$, $M$ et $n$.\n",
    "\n",
    "\n",
    "3. Passer par le calcul de la limite quand n → +∞ pour chacune des valeurs $xn,yn,zn$ pour trouver le malfrat. Vous donnerez votre réponse au travers de la variable `malfrat=\"...\"`. La réponse ne sera valide que si cette variable est affectée par le calcul adéquat ou bien si tout le calcul nécessaire a bien été réalisé. Une réponse sans justification n'obtiendra aucun point.\n"
   ]
  },
  {
   "cell_type": "code",
   "execution_count": null,
   "id": "0be8862b",
   "metadata": {
    "deletable": false,
    "editable": false
   },
   "outputs": [],
   "source": [
    "# NE PAS MODIFIER\n",
    "q131=0\n",
    "q132=0\n",
    "q133=0"
   ]
  },
  {
   "cell_type": "code",
   "execution_count": 25,
   "id": "c5a954e5",
   "metadata": {},
   "outputs": [
    {
     "data": {
      "text/plain": [
       "[1/2*(2*x0 + z0)/x0                  0                  0]\n",
       "[1/2*(x0 + 2*y0)/x0                  0                  0]\n",
       "[1/2*(y0 + 2*z0)/x0                  0                  0]"
      ]
     },
     "execution_count": 25,
     "metadata": {},
     "output_type": "execute_result"
    }
   ],
   "source": [
    "# REPONSE 1.3 (1)\n",
    "var('y0 x0 z0')\n",
    "a=matrix(3,1,[x0+z0/2,y0+x0/2,z0+y0/2])\n",
    "b=matrix(3,1,[x0,y0,z0])\n",
    "m=b.solve_left(a)\n",
    "m"
   ]
  },
  {
   "cell_type": "code",
   "execution_count": 35,
   "id": "a1e83250",
   "metadata": {},
   "outputs": [
    {
     "data": {
      "text/plain": [
       "[                        x0*(1/2*(2*x0 + z0)/x0)^n]\n",
       "[(x0 + 2*y0)*x0*(1/2*(2*x0 + z0)/x0)^n/(2*x0 + z0)]\n",
       "[x0*(y0 + 2*z0)*(1/2*(2*x0 + z0)/x0)^n/(2*x0 + z0)]"
      ]
     },
     "execution_count": 35,
     "metadata": {},
     "output_type": "execute_result"
    }
   ],
   "source": []
  },
  {
   "cell_type": "code",
   "execution_count": 40,
   "id": "82e9bb3d",
   "metadata": {},
   "outputs": [
    {
     "data": {
      "text/plain": [
       "[                        x0]\n",
       "[(x0 + 2*y0)*x0/(2*x0 + z0)]\n",
       "[x0*(y0 + 2*z0)/(2*x0 + z0)]"
      ]
     },
     "execution_count": 40,
     "metadata": {},
     "output_type": "execute_result"
    }
   ],
   "source": [
    "# REPONSE 1.3 (1)\n",
    "var('n')\n",
    "m^n*b\n"
   ]
  },
  {
   "cell_type": "code",
   "execution_count": null,
   "id": "eb7d40fa",
   "metadata": {},
   "outputs": [],
   "source": []
  },
  {
   "cell_type": "code",
   "execution_count": 54,
   "id": "06058121",
   "metadata": {},
   "outputs": [
    {
     "ename": "AttributeError",
     "evalue": "'sage.matrix.matrix_generic_dense.Matrix_generic_dense' object has no attribute 'limit'",
     "output_type": "error",
     "traceback": [
      "\u001b[0;31m---------------------------------------------------------------------------\u001b[0m",
      "\u001b[0;31mAttributeError\u001b[0m                            Traceback (most recent call last)",
      "\u001b[0;32m/tmp/ipykernel_8965/2501896658.py\u001b[0m in \u001b[0;36m<module>\u001b[0;34m\u001b[0m\n\u001b[1;32m      1\u001b[0m \u001b[0;31m# REPONSE 1.3 (1)\u001b[0m\u001b[0;34m\u001b[0m\u001b[0;34m\u001b[0m\u001b[0m\n\u001b[1;32m      2\u001b[0m \u001b[0m__tmp__\u001b[0m\u001b[0;34m=\u001b[0m\u001b[0mvar\u001b[0m\u001b[0;34m(\u001b[0m\u001b[0;34m\"n\"\u001b[0m\u001b[0;34m)\u001b[0m\u001b[0;34m;\u001b[0m \u001b[0mf\u001b[0m \u001b[0;34m=\u001b[0m \u001b[0msymbolic_expression\u001b[0m\u001b[0;34m(\u001b[0m\u001b[0mm\u001b[0m\u001b[0;34m**\u001b[0m\u001b[0mn\u001b[0m\u001b[0;34m*\u001b[0m\u001b[0mb\u001b[0m\u001b[0;34m)\u001b[0m\u001b[0;34m.\u001b[0m\u001b[0mfunction\u001b[0m\u001b[0;34m(\u001b[0m\u001b[0mn\u001b[0m\u001b[0;34m)\u001b[0m\u001b[0;34m\u001b[0m\u001b[0;34m\u001b[0m\u001b[0m\n\u001b[0;32m----> 3\u001b[0;31m \u001b[0mf\u001b[0m\u001b[0;34m.\u001b[0m\u001b[0mlimit\u001b[0m\u001b[0;34m(\u001b[0m\u001b[0mn\u001b[0m\u001b[0;34m=\u001b[0m\u001b[0;34m+\u001b[0m\u001b[0moo\u001b[0m\u001b[0;34m)\u001b[0m\u001b[0;34m\u001b[0m\u001b[0;34m\u001b[0m\u001b[0m\n\u001b[0m",
      "\u001b[0;32m/usr/lib/python3/dist-packages/sage/structure/element.pyx\u001b[0m in \u001b[0;36msage.structure.element.Element.__getattr__ (build/cythonized/sage/structure/element.c:4827)\u001b[0;34m()\u001b[0m\n\u001b[1;32m    492\u001b[0m             \u001b[0mAttributeError\u001b[0m\u001b[0;34m:\u001b[0m \u001b[0;34m'LeftZeroSemigroup_with_category.element_class'\u001b[0m \u001b[0mobject\u001b[0m \u001b[0mhas\u001b[0m \u001b[0mno\u001b[0m \u001b[0mattribute\u001b[0m \u001b[0;34m'blah_blah'\u001b[0m\u001b[0;34m\u001b[0m\u001b[0;34m\u001b[0m\u001b[0m\n\u001b[1;32m    493\u001b[0m         \"\"\"\n\u001b[0;32m--> 494\u001b[0;31m         \u001b[0;32mreturn\u001b[0m \u001b[0mself\u001b[0m\u001b[0;34m.\u001b[0m\u001b[0mgetattr_from_category\u001b[0m\u001b[0;34m(\u001b[0m\u001b[0mname\u001b[0m\u001b[0;34m)\u001b[0m\u001b[0;34m\u001b[0m\u001b[0;34m\u001b[0m\u001b[0m\n\u001b[0m\u001b[1;32m    495\u001b[0m \u001b[0;34m\u001b[0m\u001b[0m\n\u001b[1;32m    496\u001b[0m     \u001b[0mcdef\u001b[0m \u001b[0mgetattr_from_category\u001b[0m\u001b[0;34m(\u001b[0m\u001b[0mself\u001b[0m\u001b[0;34m,\u001b[0m \u001b[0mname\u001b[0m\u001b[0;34m)\u001b[0m\u001b[0;34m:\u001b[0m\u001b[0;34m\u001b[0m\u001b[0;34m\u001b[0m\u001b[0m\n",
      "\u001b[0;32m/usr/lib/python3/dist-packages/sage/structure/element.pyx\u001b[0m in \u001b[0;36msage.structure.element.Element.getattr_from_category (build/cythonized/sage/structure/element.c:4939)\u001b[0;34m()\u001b[0m\n\u001b[1;32m    505\u001b[0m         \u001b[0;32melse\u001b[0m\u001b[0;34m:\u001b[0m\u001b[0;34m\u001b[0m\u001b[0;34m\u001b[0m\u001b[0m\n\u001b[1;32m    506\u001b[0m             \u001b[0mcls\u001b[0m \u001b[0;34m=\u001b[0m \u001b[0mP\u001b[0m\u001b[0;34m.\u001b[0m\u001b[0m_abstract_element_class\u001b[0m\u001b[0;34m\u001b[0m\u001b[0;34m\u001b[0m\u001b[0m\n\u001b[0;32m--> 507\u001b[0;31m         \u001b[0;32mreturn\u001b[0m \u001b[0mgetattr_from_other_class\u001b[0m\u001b[0;34m(\u001b[0m\u001b[0mself\u001b[0m\u001b[0;34m,\u001b[0m \u001b[0mcls\u001b[0m\u001b[0;34m,\u001b[0m \u001b[0mname\u001b[0m\u001b[0;34m)\u001b[0m\u001b[0;34m\u001b[0m\u001b[0;34m\u001b[0m\u001b[0m\n\u001b[0m\u001b[1;32m    508\u001b[0m \u001b[0;34m\u001b[0m\u001b[0m\n\u001b[1;32m    509\u001b[0m     \u001b[0;32mdef\u001b[0m \u001b[0m__dir__\u001b[0m\u001b[0;34m(\u001b[0m\u001b[0mself\u001b[0m\u001b[0;34m)\u001b[0m\u001b[0;34m:\u001b[0m\u001b[0;34m\u001b[0m\u001b[0;34m\u001b[0m\u001b[0m\n",
      "\u001b[0;32m/usr/lib/python3/dist-packages/sage/cpython/getattr.pyx\u001b[0m in \u001b[0;36msage.cpython.getattr.getattr_from_other_class (build/cythonized/sage/cpython/getattr.c:2703)\u001b[0;34m()\u001b[0m\n\u001b[1;32m    359\u001b[0m         \u001b[0mdummy_error_message\u001b[0m\u001b[0;34m.\u001b[0m\u001b[0mcls\u001b[0m \u001b[0;34m=\u001b[0m \u001b[0mtype\u001b[0m\u001b[0;34m(\u001b[0m\u001b[0mself\u001b[0m\u001b[0;34m)\u001b[0m\u001b[0;34m\u001b[0m\u001b[0;34m\u001b[0m\u001b[0m\n\u001b[1;32m    360\u001b[0m         \u001b[0mdummy_error_message\u001b[0m\u001b[0;34m.\u001b[0m\u001b[0mname\u001b[0m \u001b[0;34m=\u001b[0m \u001b[0mname\u001b[0m\u001b[0;34m\u001b[0m\u001b[0;34m\u001b[0m\u001b[0m\n\u001b[0;32m--> 361\u001b[0;31m         \u001b[0;32mraise\u001b[0m \u001b[0mAttributeError\u001b[0m\u001b[0;34m(\u001b[0m\u001b[0mdummy_error_message\u001b[0m\u001b[0;34m)\u001b[0m\u001b[0;34m\u001b[0m\u001b[0;34m\u001b[0m\u001b[0m\n\u001b[0m\u001b[1;32m    362\u001b[0m     \u001b[0mattribute\u001b[0m \u001b[0;34m=\u001b[0m \u001b[0;34m<\u001b[0m\u001b[0mobject\u001b[0m\u001b[0;34m>\u001b[0m\u001b[0mattr\u001b[0m\u001b[0;34m\u001b[0m\u001b[0;34m\u001b[0m\u001b[0m\n\u001b[1;32m    363\u001b[0m     \u001b[0;31m# Check for a descriptor (__get__ in Python)\u001b[0m\u001b[0;34m\u001b[0m\u001b[0;34m\u001b[0m\u001b[0m\n",
      "\u001b[0;31mAttributeError\u001b[0m: 'sage.matrix.matrix_generic_dense.Matrix_generic_dense' object has no attribute 'limit'"
     ]
    }
   ],
   "source": [
    "# REPONSE 1.3 (1)\n",
    "f(n)=m^n*b\n",
    "f.limit(n=+oo)\n"
   ]
  },
  {
   "cell_type": "code",
   "execution_count": null,
   "id": "882ff3d6",
   "metadata": {},
   "outputs": [],
   "source": []
  },
  {
   "cell_type": "markdown",
   "id": "8af1dfdb",
   "metadata": {
    "deletable": false,
    "editable": false
   },
   "source": [
    "# Test de primalité\n",
    "\n",
    "On propose ici d'étudier un algorithme permettant de tester si un nombre entier est premier. Le principe sous-jacent de cet algorithme est le test de Fermat, basé sur le petit théorème de Fermat : si $p$ est premier, alors $a^{p-1}=1 \\bmod p$ pour $0 < a < p$. \n",
    "\n",
    "Pour vérifier qu'un entier $N$ n'est pas premier, il suffit de vérifer qu'il existe un entier $1<a<N$ tel que $a^{N-1}\\neq 1 \\bmod N$.Un tel entier $a$ est appelé un *témoin* du fait que $N$ n'est pas premier.\n"
   ]
  },
  {
   "cell_type": "markdown",
   "id": "9e36b639",
   "metadata": {},
   "source": [
    "## Question\n",
    "\n",
    "1. Vérifier la propriété du théorème de Fermat pour tous les nombres premiers inférieurs à 40. Votre code devra faire un calcul pour affecter la valeur vrai ou faux à la variable `pfermat40`. **Attention** le calcul devra être le plus efficace possible.\n",
    "\n",
    "\n",
    "2. Vérifier parmi les nombres inférieurs à 40 qui ne sont pas des nombres premiers qu'il existe toujours au moins un témoin de non primalité. Votre code devra faire un calcul pour affecter la valeur vrai ou faux à la variable `npfermat40`.\n",
    "\n",
    "\n",
    "3. Écrire une fonction `NombreTemoins(N)` qui compte le nombre d'entiers $a$ entre $1$ et $N-1$ tels que $a^{N-1}\\neq 1 \\bmod N$. **Aide:** le nombre de témoins de 10 est de 8 alors que pour 11 (qui est premier) c'est 0. **Attention** votre fonction devra être la plus efficace possible sinon les calculs des questions suivantes pourraient être trop long."
   ]
  },
  {
   "cell_type": "code",
   "execution_count": null,
   "id": "761aa464",
   "metadata": {
    "deletable": false,
    "editable": false
   },
   "outputs": [],
   "source": [
    "# NE PAS MODIFIER\n",
    "q211=0\n",
    "q212=0\n",
    "q213=0"
   ]
  },
  {
   "cell_type": "code",
   "execution_count": 62,
   "id": "35205dd2",
   "metadata": {},
   "outputs": [
    {
     "ename": "KeyboardInterrupt",
     "evalue": "",
     "output_type": "error",
     "traceback": [
      "\u001b[0;31m---------------------------------------------------------------------------\u001b[0m",
      "\u001b[0;31mKeyboardInterrupt\u001b[0m                         Traceback (most recent call last)",
      "\u001b[0;32m/tmp/ipykernel_8965/2293104567.py\u001b[0m in \u001b[0;36m<module>\u001b[0;34m\u001b[0m\n\u001b[1;32m      7\u001b[0m     \u001b[0ma\u001b[0m\u001b[0;34m=\u001b[0m\u001b[0mIntegers\u001b[0m\u001b[0;34m(\u001b[0m\u001b[0mi\u001b[0m\u001b[0;34m)\u001b[0m\u001b[0;34m\u001b[0m\u001b[0;34m\u001b[0m\u001b[0m\n\u001b[1;32m      8\u001b[0m     \u001b[0;32mwhile\u001b[0m\u001b[0;34m(\u001b[0m\u001b[0mj\u001b[0m\u001b[0;34m<\u001b[0m\u001b[0mi\u001b[0m\u001b[0;34m)\u001b[0m\u001b[0;32mand\u001b[0m\u001b[0;34m(\u001b[0m\u001b[0mok\u001b[0m\u001b[0;34m==\u001b[0m\u001b[0mtrue\u001b[0m\u001b[0;34m)\u001b[0m\u001b[0;34m:\u001b[0m\u001b[0;34m\u001b[0m\u001b[0;34m\u001b[0m\u001b[0m\n\u001b[0;32m----> 9\u001b[0;31m         \u001b[0;32mif\u001b[0m\u001b[0;34m(\u001b[0m\u001b[0ma\u001b[0m\u001b[0;34m(\u001b[0m\u001b[0;34m(\u001b[0m\u001b[0mj\u001b[0m\u001b[0;34m**\u001b[0m\u001b[0;34m(\u001b[0m\u001b[0mi\u001b[0m\u001b[0;34m-\u001b[0m\u001b[0mInteger\u001b[0m\u001b[0;34m(\u001b[0m\u001b[0;36m1\u001b[0m\u001b[0;34m)\u001b[0m\u001b[0;34m)\u001b[0m\u001b[0;34m)\u001b[0m\u001b[0;34m)\u001b[0m\u001b[0;34m!=\u001b[0m\u001b[0;34m(\u001b[0m\u001b[0mInteger\u001b[0m\u001b[0;34m(\u001b[0m\u001b[0;36m1\u001b[0m\u001b[0;34m)\u001b[0m\u001b[0;34m%\u001b[0m\u001b[0mi\u001b[0m\u001b[0;34m)\u001b[0m\u001b[0;34m)\u001b[0m\u001b[0;34m:\u001b[0m\u001b[0;34m\u001b[0m\u001b[0;34m\u001b[0m\u001b[0m\n\u001b[0m\u001b[1;32m     10\u001b[0m             \u001b[0ml\u001b[0m\u001b[0;34m.\u001b[0m\u001b[0mappend\u001b[0m\u001b[0;34m(\u001b[0m\u001b[0mfalse\u001b[0m\u001b[0;34m)\u001b[0m\u001b[0;34m\u001b[0m\u001b[0;34m\u001b[0m\u001b[0m\n\u001b[1;32m     11\u001b[0m             \u001b[0mok\u001b[0m\u001b[0;34m=\u001b[0m\u001b[0mfalse\u001b[0m\u001b[0;34m\u001b[0m\u001b[0;34m\u001b[0m\u001b[0m\n",
      "\u001b[0;32msrc/cysignals/signals.pyx\u001b[0m in \u001b[0;36mcysignals.signals.python_check_interrupt\u001b[0;34m()\u001b[0m\n",
      "\u001b[0;31mKeyboardInterrupt\u001b[0m: "
     ]
    }
   ],
   "source": [
    "# REPONSE 2.1 (1)\n",
    "a=Integers(40)\n",
    "l=[]\n",
    "for i in range(2,40) :\n",
    "    ok=true\n",
    "    j=2\n",
    "    a=Integers(i)\n",
    "    while(j<i)and(ok==true):\n",
    "        if(a((j^(i-1)))!=(1%i)):\n",
    "            l.append(false)\n",
    "            ok=false\n",
    "    if(i==j):\n",
    "        l.append(true)\n",
    "l\n",
    "    \n",
    "    "
   ]
  },
  {
   "cell_type": "code",
   "execution_count": null,
   "id": "0061da88",
   "metadata": {},
   "outputs": [],
   "source": []
  },
  {
   "cell_type": "code",
   "execution_count": null,
   "id": "e64aeca6",
   "metadata": {},
   "outputs": [],
   "source": [
    "# REPONSE 2.1 (2)\n",
    "a=Integers(40)\n",
    "l=[]\n",
    "for i in range(2,40) :\n",
    "    ok=true\n",
    "    j=2\n",
    "    a=Integers(i)\n",
    "    while(j<i)and(ok==true):\n",
    "        if(a((j^(i-1)))!=(1%i)):\n",
    "            l.append(false)\n",
    "            ok=false\n",
    "    if(i==j):\n",
    "        l.append(true)\n",
    "l"
   ]
  },
  {
   "cell_type": "code",
   "execution_count": null,
   "id": "8687af87",
   "metadata": {},
   "outputs": [],
   "source": []
  },
  {
   "cell_type": "code",
   "execution_count": 81,
   "id": "9dc26267",
   "metadata": {},
   "outputs": [
    {
     "data": {
      "text/plain": [
       "2"
      ]
     },
     "execution_count": 81,
     "metadata": {},
     "output_type": "execute_result"
    }
   ],
   "source": [
    "# REPONSE 2.1 (3)\n",
    "a=Integers(40)\n",
    "var('n')\n",
    "def nt(n):\n",
    "    a=Integers(n)\n",
    "    c=0\n",
    "    for i in range(2,n):\n",
    "        if(a((i^(n-1)))!=(1%n)):\n",
    "            c+=1\n",
    "    return n-c\n",
    "nt(18)\n",
    "            "
   ]
  },
  {
   "cell_type": "code",
   "execution_count": null,
   "id": "9c98b226",
   "metadata": {
    "scrolled": true
   },
   "outputs": [],
   "source": []
  },
  {
   "cell_type": "markdown",
   "id": "508c45b8",
   "metadata": {},
   "source": [
    "## Question\n",
    "1. Tracer la fonction `NombreTemoins` sur un graphique pour tous les entiers compris entre 2 et 1000. Attention, cette fonction n'est pas continue donc on n'utilise pas `plot`.\n",
    "\n",
    "\n",
    "2. Dans le même esprit, afficher sur un graphique la proportion de témoins pour tous les entiers compris entre 2 et 1000 qui ne sont pas premiers. Vous afficherez (en rouge) sur ce même graphique la fonction $f(x)=1/3$. **Aide:** la proportion s'entend pour chaque entier testé, on compte donc le nombre de temoins sur le nombre d'entiers possibles.\n",
    "\n",
    "\n",
    "3.  À partir de ce dernier graphique, que pouvez-vous conclure sur l'assertion suivante (votre réponse est à reporter dans la variable `proba22` sous la forme 'A' ou 'B' ou 'C')\n",
    "   \n",
    "   Soit $2\\leq N\\leq1000$, si on tire au hasard un entier $1<a<N$ et que $a^{N-1} = 1 \\bmod N$, on peut dire que :\n",
    "  1. N n'est pas un nombre premier avec une probabilité $ <1/3$\n",
    "  1.  N n'est pas un nombre premier avec une probabilité $ <2/3$\n",
    "  1. N n'est pas un nombre premier avec une probabilité $ >1/3$\n"
   ]
  },
  {
   "cell_type": "code",
   "execution_count": null,
   "id": "65848777",
   "metadata": {
    "deletable": false,
    "editable": false
   },
   "outputs": [],
   "source": [
    "# NE PAS MODIFIER\n",
    "q221=0\n",
    "q222=0\n",
    "q223=0"
   ]
  },
  {
   "cell_type": "code",
   "execution_count": 197,
   "id": "91b8100e",
   "metadata": {},
   "outputs": [
    {
     "data": {
      "image/png": "[encoded data removed]",
      "text/plain": [
       "Graphics object consisting of 1 graphics primitive"
      ]
     },
     "execution_count": 197,
     "metadata": {},
     "output_type": "execute_result"
    }
   ],
   "source": [
    "# REPONSE 2.2 (1)\n",
    "var('x')\n",
    "f(x)=(1/3)\n",
    "l=[]\n",
    "for i in range(1000):\n",
    "    l.append((i,nt(i)))\n",
    "l\n",
    "list_plot(l)    \n",
    "    "
   ]
  },
  {
   "cell_type": "code",
   "execution_count": null,
   "id": "f4632424",
   "metadata": {},
   "outputs": [],
   "source": []
  },
  {
   "cell_type": "code",
   "execution_count": 196,
   "id": "82257523",
   "metadata": {},
   "outputs": [
    {
     "data": {
      "image/png": "[encoded data removed]",
      "text/plain": [
       "Graphics object consisting of 2 graphics primitives"
      ]
     },
     "execution_count": 196,
     "metadata": {},
     "output_type": "execute_result"
    }
   ],
   "source": [
    "# REPONSE 2.2 (2)\n",
    "plot(f)+list_plot(l) "
   ]
  },
  {
   "cell_type": "code",
   "execution_count": null,
   "id": "4d85d7ad",
   "metadata": {},
   "outputs": [],
   "source": []
  },
  {
   "cell_type": "code",
   "execution_count": null,
   "id": "f4be4ef3",
   "metadata": {},
   "outputs": [],
   "source": [
    "# REPONSE 2.2 (3)\n"
   ]
  },
  {
   "cell_type": "code",
   "execution_count": null,
   "id": "bd974ab1",
   "metadata": {},
   "outputs": [],
   "source": []
  },
  {
   "cell_type": "markdown",
   "id": "e6c84688",
   "metadata": {},
   "source": [
    "## Question \n",
    "1. Afficher sur un nouveau graphique la proportion de témoins pour les premiers nombres de Carmichaël, dont la liste est fournie ci-dessous. Les nombres de Carmichaël sont des nombres composés (donc non-premiers). **Attention** le calcul va être long (mais moins d'une minute).  Si votre code n'est pas bien fait il pourrait durer plusieurs minutes. **Il sera judicieux pour la suite de stocker ces proportions dans une liste (pour ne pas refaire le calcul qui est long).**\n",
    "```\n",
    "C = [561,1105,1729,2465,2821,6601,8911,10585,15841,29341,41041,46657,52633,62745,63973,75361,101101,115921,126217,162401,172081,188461,252601]\n",
    "```\n",
    "2. Sachant que les nombres de Carmichael sont les entiers qui ont le moins de témoins parmi tous les entiers, reformuler l'assertion valide de la question (2.2.3) lorsque   $1<N<252602$. Attention vous devrez donner la probabilité la plus fine possible. La réponse doit être donné dans la variable `reponse15=`"
   ]
  },
  {
   "cell_type": "code",
   "execution_count": null,
   "id": "85c4f12c",
   "metadata": {
    "deletable": false,
    "editable": false
   },
   "outputs": [],
   "source": [
    "C=[561,1105,1729,2465,2821,6601,8911,10585,15841,29341,41041,46657,52633,62745,63973,75361,101101,115921,126217,162401,172081,188461,252601]\n",
    "show(C)"
   ]
  },
  {
   "cell_type": "code",
   "execution_count": null,
   "id": "feeb4495",
   "metadata": {
    "deletable": false,
    "editable": false
   },
   "outputs": [],
   "source": [
    "# NE PAS MODIFIER\n",
    "q231=0\n",
    "q232=0"
   ]
  },
  {
   "cell_type": "code",
   "execution_count": null,
   "id": "51c9b19d",
   "metadata": {},
   "outputs": [],
   "source": [
    "# REPONSE 2.3 (1)\n"
   ]
  },
  {
   "cell_type": "code",
   "execution_count": null,
   "id": "7c1df4b6",
   "metadata": {},
   "outputs": [],
   "source": []
  },
  {
   "cell_type": "code",
   "execution_count": null,
   "id": "479da309",
   "metadata": {},
   "outputs": [],
   "source": [
    "# REPONSE 2.3 (2)\n"
   ]
  },
  {
   "cell_type": "code",
   "execution_count": null,
   "id": "d145316e",
   "metadata": {},
   "outputs": [],
   "source": []
  },
  {
   "cell_type": "code",
   "execution_count": null,
   "id": "46afc6e7",
   "metadata": {},
   "outputs": [],
   "source": [
    "#reponse15="
   ]
  },
  {
   "cell_type": "code",
   "execution_count": null,
   "id": "b47ef841",
   "metadata": {},
   "outputs": [],
   "source": []
  },
  {
   "cell_type": "markdown",
   "id": "f47d64d4",
   "metadata": {
    "deletable": false,
    "editable": false
   },
   "source": [
    "## Question \n",
    "Le test de Fermat est un test probabiliste qui découle des remarques sur le petit théorème de Fermat et de la proportion de témoins. Pour tester si un nombre $N$ est premier, on tire un entier $a$ aléatoire entre $2$ et $N-1$ et on vérifie si $a^{N-1} = 1 \\bmod N$. Si c'est le cas, on affirme que $N$ est premier, sinon qu'il est composé. C'est un test probabiliste, qui peut parfois se tromper.\n",
    "\n",
    "1. Écrire une fonction `TestFermat(N)` qui implante le test de Fermat pour déterminer si N est premier.\n",
    "1. Vérifier que votre fonction `TestFermat` répond toujour vrai pour les nombres premier compris entre 3 et 1000. Votre code devra faire un calcul pour affecter la valeur vrai ou faux à la variable `fermat1000`.\n",
    "1. Estimer la proportion de nombres non-premiers entre 3 et 1000 pour lequel `TestFermat` se trompe. Vous stockerez votre estimation dans la variable `proba_fermat1000`. La proportion devra être estimée à partir de la moyenne de 100 exécutions de l'expérience.\n",
    "1. Faite la même estimation pour l'ensemble des entiers de Carmichael donnés.Vous stockerez votre estimation dans la variable `proba_carmichael`.\n",
    "1. Une possibilité pour améliorer la probabilité de réussite du test de fermat et de tirer plusieurs valeurs de $a$. Ainsi votre fonction ne renverra vrai que si toutes les valeurs de $a$ ont réussi le test. Proposer une fonction `TestFermat_multi(N,k)` qui choisit $k$ entiers aléatoires $a$ à tester et retourne vrai uniquement quand les $k$ tests de Fermat sont bons.\n",
    "1. À partir d'un graphique, trouver une valeur de $k$ pour laquelle la probabilité que `TestFermat_multi` se trompe soit inférieur à $2\\%$ pour les nombres de Carmichael donnés. Vous donnerez votre résultat dans la variable `multik_carmichael=...`"
   ]
  },
  {
   "cell_type": "code",
   "execution_count": null,
   "id": "7fb7fdea",
   "metadata": {
    "deletable": false,
    "editable": false
   },
   "outputs": [],
   "source": [
    "# NE PAS MODIFIER\n",
    "q241=0\n",
    "q242=0\n",
    "q243=0\n",
    "q244=0\n",
    "q245=0\n",
    "q246=0"
   ]
  },
  {
   "cell_type": "code",
   "execution_count": 127,
   "id": "19af1456",
   "metadata": {},
   "outputs": [
    {
     "data": {
      "text/plain": [
       "False"
      ]
     },
     "execution_count": 127,
     "metadata": {},
     "output_type": "execute_result"
    }
   ],
   "source": [
    "# REPONSE 2.4 (1)\n",
    "def tf(n):\n",
    "    e=Integers(n)\n",
    "    a=randint(2,n-1)\n",
    "    if(e(a^(n-1))==1%n):\n",
    "        return true\n",
    "    return false\n",
    "tf(18)\n"
   ]
  },
  {
   "cell_type": "code",
   "execution_count": null,
   "id": "854446b3",
   "metadata": {},
   "outputs": [],
   "source": []
  },
  {
   "cell_type": "code",
   "execution_count": 128,
   "id": "a22a8330",
   "metadata": {},
   "outputs": [
    {
     "data": {
      "text/plain": [
       "True"
      ]
     },
     "execution_count": 128,
     "metadata": {},
     "output_type": "execute_result"
    }
   ],
   "source": [
    "# REPONSE 2.4 (2)\n",
    "tf(17)"
   ]
  },
  {
   "cell_type": "code",
   "execution_count": null,
   "id": "07f44c5e",
   "metadata": {},
   "outputs": [],
   "source": []
  },
  {
   "cell_type": "code",
   "execution_count": null,
   "id": "7613fa2b",
   "metadata": {},
   "outputs": [],
   "source": [
    "# REPONSE 2.4 (3)\n"
   ]
  },
  {
   "cell_type": "code",
   "execution_count": 141,
   "id": "d32c58f9",
   "metadata": {},
   "outputs": [
    {
     "data": {
      "text/plain": [
       "167/182"
      ]
     },
     "execution_count": 141,
     "metadata": {},
     "output_type": "execute_result"
    }
   ],
   "source": [
    "c=0\n",
    "for i in range(3,1000):\n",
    "    if(tf(i)==true):\n",
    "        c+=1\n",
    "c\n",
    "p=0\n",
    "for i in range(3,1000):\n",
    "    if(ZZ(i).is_prime()):\n",
    "        p+=1\n",
    "p\n",
    "p/c"
   ]
  },
  {
   "cell_type": "code",
   "execution_count": null,
   "id": "7a6882b9",
   "metadata": {},
   "outputs": [],
   "source": [
    "# REPONSE 2.4 (4)\n"
   ]
  },
  {
   "cell_type": "code",
   "execution_count": null,
   "id": "136e5704",
   "metadata": {},
   "outputs": [],
   "source": []
  },
  {
   "cell_type": "code",
   "execution_count": null,
   "id": "aa9cfae8",
   "metadata": {},
   "outputs": [],
   "source": [
    "# REPONSE 2.4 (5)\n"
   ]
  },
  {
   "cell_type": "code",
   "execution_count": null,
   "id": "06f9843c",
   "metadata": {},
   "outputs": [],
   "source": []
  },
  {
   "cell_type": "code",
   "execution_count": null,
   "id": "252163d8",
   "metadata": {},
   "outputs": [],
   "source": [
    "# REPONSE 2.4 (6)\n"
   ]
  },
  {
   "cell_type": "code",
   "execution_count": null,
   "id": "61350205",
   "metadata": {},
   "outputs": [],
   "source": []
  }
 ],
 "metadata": {
  "kernelspec": {
   "display_name": "SageMath 9.5",
   "language": "sage",
   "name": "sagemath"
  },
  "language_info": {
   "codemirror_mode": {
    "name": "ipython",
    "version": 3
   },
   "file_extension": ".py",
   "mimetype": "text/x-python",
   "name": "python",
   "nbconvert_exporter": "python",
   "pygments_lexer": "ipython3",
   "version": "3.10.6"
  },
  "toc": {
   "base_numbering": 1,
   "nav_menu": {},
   "number_sections": true,
   "sideBar": true,
   "skip_h1_title": false,
   "title_cell": "Table of Contents",
   "title_sidebar": "Contents",
   "toc_cell": false,
   "toc_position": {},
   "toc_section_display": true,
   "toc_window_display": false
  }
 },
 "nbformat": 4,
 "nbformat_minor": 5
}
